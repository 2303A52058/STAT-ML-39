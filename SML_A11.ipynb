{
  "nbformat": 4,
  "nbformat_minor": 0,
  "metadata": {
    "colab": {
      "provenance": [],
      "authorship_tag": "ABX9TyMMihog3fp2sA1tgAn7c/sA",
      "include_colab_link": true
    },
    "kernelspec": {
      "name": "python3",
      "display_name": "Python 3"
    },
    "language_info": {
      "name": "python"
    }
  },
  "cells": [
    {
      "cell_type": "markdown",
      "metadata": {
        "id": "view-in-github",
        "colab_type": "text"
      },
      "source": [
        "<a href=\"https://colab.research.google.com/github/2303A52058/STAT-ML-39/blob/main/SML_A11.ipynb\" target=\"_parent\"><img src=\"https://colab.research.google.com/assets/colab-badge.svg\" alt=\"Open In Colab\"/></a>"
      ]
    },
    {
      "cell_type": "markdown",
      "source": [
        "**NAME: G. MEGHA AKANKSHA**\n",
        "\n",
        "**HT NO: 2303A52058**\n",
        "\n",
        "**BATCH-39**"
      ],
      "metadata": {
        "id": "75BhjpMV0GB3"
      }
    },
    {
      "cell_type": "code",
      "source": [
        "# Separate features and target variable\n",
        "X = data.drop('Patient_Status', axis=1)\n",
        "y = data['Patient_Status']"
      ],
      "metadata": {
        "id": "ECHXCIzUy0Ii"
      },
      "execution_count": 5,
      "outputs": []
    },
    {
      "cell_type": "code",
      "execution_count": 1,
      "metadata": {
        "id": "RIE1jo5kyocs"
      },
      "outputs": [],
      "source": [
        "import pandas as pd\n",
        "from sklearn.model_selection import train_test_split\n",
        "from sklearn.preprocessing import LabelEncoder, StandardScaler\n",
        "from sklearn.decomposition import PCA\n",
        "from sklearn.svm import SVC\n",
        "from sklearn.neighbors import KNeighborsClassifier\n",
        "from sklearn.linear_model import LogisticRegression\n",
        "from sklearn.metrics import accuracy_score\n"
      ]
    },
    {
      "cell_type": "code",
      "source": [
        "# Load the data\n",
        "file_path = 'breast_cancer_survival.csv'\n",
        "# The issue was on this line: data was assigned to the file path string.\n",
        "# Now, it's correctly assigned to the DataFrame loaded from the CSV file.\n",
        "data = pd.read_csv(file_path)"
      ],
      "metadata": {
        "id": "7ElXZ50aystZ"
      },
      "execution_count": 2,
      "outputs": []
    },
    {
      "cell_type": "code",
      "source": [
        "# Drop date columns as they are not relevant features and encode categorical variables\n",
        "data = data.drop(['Date_of_Surgery', 'Date_of_Last_Visit'], axis=1)\n",
        "categorical_cols = ['Gender', 'Tumour_Stage', 'Histology', 'ER status', 'PR status', 'HER2 status', 'Surgery_type', 'Patient_Status']\n",
        "le = LabelEncoder()\n",
        "for col in categorical_cols:\n",
        "  data[col] = le.fit_transform(data[col])"
      ],
      "metadata": {
        "id": "AMnkwYy_ywLM"
      },
      "execution_count": 4,
      "outputs": []
    },
    {
      "cell_type": "code",
      "source": [
        "# Split the dataset into training and testing sets\n",
        "X_train, X_test, y_train, y_test = train_test_split(X, y, test_size=0.2, random_state=42)"
      ],
      "metadata": {
        "id": "UTSZCkcFy4AF"
      },
      "execution_count": 6,
      "outputs": []
    },
    {
      "cell_type": "code",
      "source": [
        "# Standardize the features\n",
        "scaler = StandardScaler()\n",
        "X_train = scaler.fit_transform(X_train)\n",
        "X_test = scaler.transform(X_test)"
      ],
      "metadata": {
        "id": "oM6QOS_Sy7bl"
      },
      "execution_count": 7,
      "outputs": []
    },
    {
      "cell_type": "code",
      "source": [
        "# Train models and calculate accuracy before PCA\n",
        "models = {'SVM': SVC(), 'KNN': KNeighborsClassifier(), 'Logistic Regression': LogisticRegression(max_iter=1000)}\n",
        "accuracies_before_pca = {}\n",
        "for model_name, model in models.items():\n",
        "  model.fit(X_train, y_train)\n",
        "y_pred = model.predict(X_test)\n",
        "accuracies_before_pca[model_name] = accuracy_score(y_test, y_pred)"
      ],
      "metadata": {
        "id": "HL8ad6idy_Ju"
      },
      "execution_count": 8,
      "outputs": []
    },
    {
      "cell_type": "code",
      "source": [
        "# Apply PCA to reduce dimensions to 2 for visualization and simplicity\n",
        "pca = PCA(n_components=2)\n",
        "X_train_pca = pca.fit_transform(X_train)\n",
        "X_test_pca = pca.transform(X_test)"
      ],
      "metadata": {
        "id": "6lUEN5O4zEV2"
      },
      "execution_count": 9,
      "outputs": []
    },
    {
      "cell_type": "code",
      "source": [
        "# Train models and calculate accuracy after PCA\n",
        "accuracies_after_pca = {}\n",
        "for model_name, model in models.items():\n",
        "  model.fit(X_train_pca, y_train)\n",
        "y_pred = model.predict(X_test_pca)\n",
        "accuracies_after_pca[model_name] = accuracy_score(y_test, y_pred)"
      ],
      "metadata": {
        "id": "7ySeE84dzHUp"
      },
      "execution_count": 11,
      "outputs": []
    },
    {
      "cell_type": "code",
      "source": [
        "# Print accuracy results\n",
        "print(\"Accuracies before PCA:\", accuracies_before_pca)\n",
        "print(\"Accuracies after PCA:\", accuracies_after_pca)"
      ],
      "metadata": {
        "colab": {
          "base_uri": "https://localhost:8080/"
        },
        "id": "3oEUE2ouzKaQ",
        "outputId": "ab0202f7-f8aa-4151-b294-ae388285dd89"
      },
      "execution_count": 12,
      "outputs": [
        {
          "output_type": "stream",
          "name": "stdout",
          "text": [
            "Accuracies before PCA: {'Logistic Regression': 0.7761194029850746}\n",
            "Accuracies after PCA: {'Logistic Regression': 0.7761194029850746}\n"
          ]
        }
      ]
    }
  ]
}