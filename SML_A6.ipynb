{
  "nbformat": 4,
  "nbformat_minor": 0,
  "metadata": {
    "colab": {
      "provenance": [],
      "authorship_tag": "ABX9TyN6D1fahZpCNySg3DQUH+Bk",
      "include_colab_link": true
    },
    "kernelspec": {
      "name": "python3",
      "display_name": "Python 3"
    },
    "language_info": {
      "name": "python"
    }
  },
  "cells": [
    {
      "cell_type": "markdown",
      "metadata": {
        "id": "view-in-github",
        "colab_type": "text"
      },
      "source": [
        "<a href=\"https://colab.research.google.com/github/2303A52058/STAT-ML-39/blob/main/SML_A6.ipynb\" target=\"_parent\"><img src=\"https://colab.research.google.com/assets/colab-badge.svg\" alt=\"Open In Colab\"/></a>"
      ]
    },
    {
      "cell_type": "markdown",
      "source": [
        "**NAME: G. MEGHA AKANKSHA HT.NO: 2303A52058 BATCH-39 SML A6**"
      ],
      "metadata": {
        "id": "zAgOU6eqm9Fh"
      }
    },
    {
      "cell_type": "markdown",
      "source": [
        "ASS6 Q1. Imagine you are developing a simple machine learning model to predict whether a student will pass a course based on the following five features:\n",
        "\n",
        "Study Hours per Week: Number of hours the student studies per week.\n",
        "Class Attendance (%): Percentage of classes attended by the student.\n",
        "Previous Exam Score (%): Score in the previous exam.\n",
        "Participation in Group Study: Whether the student participates in group study sessions (1 for Yes, 0 for No).\n",
        "Submission of Assignments (%): Percentage of assignments submitted by the student.\n",
        "Dataset\n",
        "\n",
        "Below is an example dataset with 10 students (rows), 5 features, and a binary target label (Pass/Fail). The target label is 1 if the student is predicted to pass, and 0 if they are predicted to fail."
      ],
      "metadata": {
        "id": "26BkIl4ESsRW"
      }
    },
    {
      "cell_type": "code",
      "source": [
        "import numpy as np\n",
        "import pandas as pd\n",
        "from sklearn.model_selection import train_test_split\n",
        "from sklearn.preprocessing import StandardScaler\n",
        "from sklearn.linear_model import LogisticRegression\n",
        "from sklearn.metrics import accuracy_score, confusion_matrix, classification_report\n",
        "\n",
        "# Sample dataset\n",
        "data = {\n",
        "    'Study Hours': [10, 5, 15, 2, 12, 8, 14, 3, 11, 6],\n",
        "    'Class Attendance': [90, 60, 95, 30, 85, 75, 92, 50, 88, 65],\n",
        "    'Previous Exam Score': [85, 70, 90, 50, 88, 65, 93, 55, 80, 60],\n",
        "    'Group Study': [1, 0, 1, 0, 1, 0, 1, 0, 1, 0],\n",
        "    'Assignments Submitted': [100, 80, 100, 40, 90, 70, 95, 60, 85, 75],\n",
        "    'Pass/Fail': [1, 0, 1, 0, 1, 0, 1, 0, 1, 0]\n",
        "}\n",
        "\n",
        "# Convert to DataFrame\n",
        "df = pd.DataFrame(data)\n",
        "\n",
        "# Features and target\n",
        "X = df.drop('Pass/Fail', axis=1)\n",
        "y = df['Pass/Fail']\n",
        "\n",
        "# Split data into training and testing sets\n",
        "X_train, X_test, y_train, y_test = train_test_split(X, y, test_size=0.2, random_state=42)\n",
        "\n",
        "# Standardize the features\n",
        "scaler = StandardScaler()\n",
        "X_train = scaler.fit_transform(X_train)\n",
        "X_test = scaler.transform(X_test)\n",
        "\n",
        "# Logistic Regression model\n",
        "model = LogisticRegression()\n",
        "model.fit(X_train, y_train)\n",
        "\n",
        "# Predictions\n",
        "y_pred = model.predict(X_test)\n",
        "\n",
        "# Evaluation\n",
        "accuracy = accuracy_score(y_test, y_pred)\n",
        "conf_matrix = confusion_matrix(y_test, y_pred)\n",
        "class_report = classification_report(y_test, y_pred)\n",
        "\n",
        "print(f\"Accuracy: {accuracy}\")\n",
        "print(\"Confusion Matrix:\")\n",
        "print(conf_matrix)\n",
        "print(\"Classification Report:\")\n",
        "print(class_report)"
      ],
      "metadata": {
        "colab": {
          "base_uri": "https://localhost:8080/"
        },
        "id": "5aMZ9OyLf5UD",
        "outputId": "8765f52b-fdde-4133-af81-4ad311093ba3"
      },
      "execution_count": null,
      "outputs": [
        {
          "output_type": "stream",
          "name": "stdout",
          "text": [
            "Accuracy: 1.0\n",
            "Confusion Matrix:\n",
            "[[1 0]\n",
            " [0 1]]\n",
            "Classification Report:\n",
            "              precision    recall  f1-score   support\n",
            "\n",
            "           0       1.00      1.00      1.00         1\n",
            "           1       1.00      1.00      1.00         1\n",
            "\n",
            "    accuracy                           1.00         2\n",
            "   macro avg       1.00      1.00      1.00         2\n",
            "weighted avg       1.00      1.00      1.00         2\n",
            "\n"
          ]
        }
      ]
    },
    {
      "cell_type": "markdown",
      "source": [
        "ASS6 Q2.https://www.kaggle.com/datasets/ishandutta/early-stage-diabetes-risk-prediction-datasetLinks to an external site.\n",
        "\n",
        "Implement a perceptron learning model to train above data, and find the accuracy."
      ],
      "metadata": {
        "id": "y7vv88-QehQb"
      }
    },
    {
      "cell_type": "code",
      "source": [
        "#question_2\n",
        "import pandas as pd\n",
        "from sklearn.model_selection import train_test_split\n",
        "from sklearn.preprocessing import StandardScaler, LabelEncoder # Added LabelEncoder\n",
        "from sklearn.linear_model import Perceptron\n",
        "from sklearn.metrics import accuracy_score\n",
        "\n",
        "# Step 2: Load the dataset (Assuming the CSV is downloaded locally)\n",
        "#url = '/content/drive/MyDrive/diabetes_data_upload.csv'  # Change this to your local path if necessary\n",
        "df = pd.read_csv('diabetes_data_upload.csv')\n",
        "\n",
        "# Step 3: Preprocess the data\n",
        "# Check the data and remove/encode any non-numerical columns, or handle missing data\n",
        "df = df.dropna()  # Drop any rows with missing values (or handle differently if needed)\n",
        "\n",
        "# Convert 'Gender' column to numerical using Label Encoding\n",
        "label_encoder = LabelEncoder() # Initialize LabelEncoder\n",
        "df['Gender'] = label_encoder.fit_transform(df['Gender']) # Fit and transform the 'Gender' column\n",
        "\n",
        "# Identify columns with 'Yes' and 'No' and convert them to numerical using Label Encoding\n",
        "for column in df.columns:\n",
        "    if df[column].isin(['Yes', 'No']).any():\n",
        "        df[column] = label_encoder.fit_transform(df[column])\n",
        "\n",
        "# Assuming the last column is the target\n",
        "X = df.drop('class', axis=1)  # Features\n",
        "y = df['class']  # Target (labels)\n",
        "\n",
        "# Step 4: Split the data into train and test sets\n",
        "X_train, X_test, y_train, y_test = train_test_split(X, y, test_size=0.3, random_state=42)\n",
        "\n",
        "# Step 5: Feature scaling\n",
        "scaler = StandardScaler()\n",
        "X_train = scaler.fit_transform(X_train)\n",
        "X_test = scaler.transform(X_test)\n",
        "\n",
        "# Step 6: Train the Perceptron model\n",
        "perceptron = Perceptron(max_iter=1000, tol=1e-3, random_state=42)\n",
        "perceptron.fit(X_train, y_train)\n",
        "\n",
        "# Step 7: Predict and calculate accuracy\n",
        "y_pred = perceptron.predict(X_test)\n",
        "accuracy = accuracy_score(y_test, y_pred)\n",
        "\n",
        "print(f\"Model accuracy: {accuracy * 100:.2f}%\")"
      ],
      "metadata": {
        "colab": {
          "base_uri": "https://localhost:8080/"
        },
        "id": "9I9Ef6GTerJL",
        "outputId": "32e75bd5-a788-449b-e6a0-86aeba6c3c52"
      },
      "execution_count": null,
      "outputs": [
        {
          "output_type": "stream",
          "name": "stdout",
          "text": [
            "Model accuracy: 89.74%\n"
          ]
        }
      ]
    }
  ]
}